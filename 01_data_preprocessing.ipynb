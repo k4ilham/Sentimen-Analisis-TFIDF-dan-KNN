{
  "cells": [
    {
      "cell_type": "markdown",
      "metadata": {
        "id": "RGu55wWuo3fh"
      },
      "source": [
        "# Dataset\n",
        "<hr>"
      ]
    },
    {
      "cell_type": "code",
      "execution_count": 121,
      "metadata": {},
      "outputs": [
        {
          "data": {
            "text/html": [
              "<div>\n",
              "<style scoped>\n",
              "    .dataframe tbody tr th:only-of-type {\n",
              "        vertical-align: middle;\n",
              "    }\n",
              "\n",
              "    .dataframe tbody tr th {\n",
              "        vertical-align: top;\n",
              "    }\n",
              "\n",
              "    .dataframe thead th {\n",
              "        text-align: right;\n",
              "    }\n",
              "</style>\n",
              "<table border=\"1\" class=\"dataframe\">\n",
              "  <thead>\n",
              "    <tr style=\"text-align: right;\">\n",
              "      <th></th>\n",
              "      <th>id</th>\n",
              "      <th>userName</th>\n",
              "      <th>text</th>\n",
              "      <th>profileUrl</th>\n",
              "      <th>avatarUrl</th>\n",
              "      <th>date</th>\n",
              "    </tr>\n",
              "  </thead>\n",
              "  <tbody>\n",
              "    <tr>\n",
              "      <th>0</th>\n",
              "      <td>343750925</td>\n",
              "      <td>ngui_sintan</td>\n",
              "      <td>Timnas kali ini semua cogan semua ya ????????</td>\n",
              "      <td>https://www.instagram.com/ngui_sintan/</td>\n",
              "      <td>https://scontent-cgk2-1.cdninstagram.com/v/t51...</td>\n",
              "      <td>2024/04/29 10:16:56</td>\n",
              "    </tr>\n",
              "    <tr>\n",
              "      <th>1</th>\n",
              "      <td>62994040438</td>\n",
              "      <td>agustiyaindahsariputri</td>\n",
              "      <td>Timnas Indonesia U-19 vs pra PON</td>\n",
              "      <td>https://www.instagram.com/agustiyaindahsariputri/</td>\n",
              "      <td>https://scontent-cgk2-1.cdninstagram.com/v/t51...</td>\n",
              "      <td>2024/04/29 12:28:06</td>\n",
              "    </tr>\n",
              "    <tr>\n",
              "      <th>2</th>\n",
              "      <td>66276899001</td>\n",
              "      <td>shaunevans_reff</td>\n",
              "      <td>????</td>\n",
              "      <td>https://www.instagram.com/shaunevans_reff/</td>\n",
              "      <td>https://scontent-cgk2-1.cdninstagram.com/v/t51...</td>\n",
              "      <td>2024/04/29 13:21:02</td>\n",
              "    </tr>\n",
              "    <tr>\n",
              "      <th>3</th>\n",
              "      <td>47461686772</td>\n",
              "      <td>dslsyabildumps_</td>\n",
              "      <td>uhuyyyy????</td>\n",
              "      <td>https://www.instagram.com/dslsyabildumps_/</td>\n",
              "      <td>https://scontent-cgk2-1.cdninstagram.com/v/t51...</td>\n",
              "      <td>2024/04/29 14:36:48</td>\n",
              "    </tr>\n",
              "    <tr>\n",
              "      <th>4</th>\n",
              "      <td>53547989641</td>\n",
              "      <td>rohadiiiiiii</td>\n",
              "      <td>Final : waalykumsalam ????</td>\n",
              "      <td>https://www.instagram.com/rohadiiiiiii/</td>\n",
              "      <td>https://scontent-cgk2-1.cdninstagram.com/v/t51...</td>\n",
              "      <td>2024/04/29 14:57:33</td>\n",
              "    </tr>\n",
              "  </tbody>\n",
              "</table>\n",
              "</div>"
            ],
            "text/plain": [
              "            id                userName  \\\n",
              "0    343750925             ngui_sintan   \n",
              "1  62994040438  agustiyaindahsariputri   \n",
              "2  66276899001         shaunevans_reff   \n",
              "3  47461686772         dslsyabildumps_   \n",
              "4  53547989641            rohadiiiiiii   \n",
              "\n",
              "                                            text  \\\n",
              "0  Timnas kali ini semua cogan semua ya ????????   \n",
              "1               Timnas Indonesia U-19 vs pra PON   \n",
              "2                                           ????   \n",
              "3                                    uhuyyyy????   \n",
              "4                     Final : waalykumsalam ????   \n",
              "\n",
              "                                          profileUrl  \\\n",
              "0             https://www.instagram.com/ngui_sintan/   \n",
              "1  https://www.instagram.com/agustiyaindahsariputri/   \n",
              "2         https://www.instagram.com/shaunevans_reff/   \n",
              "3         https://www.instagram.com/dslsyabildumps_/   \n",
              "4            https://www.instagram.com/rohadiiiiiii/   \n",
              "\n",
              "                                           avatarUrl                 date  \n",
              "0  https://scontent-cgk2-1.cdninstagram.com/v/t51...  2024/04/29 10:16:56  \n",
              "1  https://scontent-cgk2-1.cdninstagram.com/v/t51...  2024/04/29 12:28:06  \n",
              "2  https://scontent-cgk2-1.cdninstagram.com/v/t51...  2024/04/29 13:21:02  \n",
              "3  https://scontent-cgk2-1.cdninstagram.com/v/t51...  2024/04/29 14:36:48  \n",
              "4  https://scontent-cgk2-1.cdninstagram.com/v/t51...  2024/04/29 14:57:33  "
            ]
          },
          "execution_count": 121,
          "metadata": {},
          "output_type": "execute_result"
        }
      ],
      "source": [
        "import pandas as pd\n",
        "\n",
        "df = pd.read_csv(\"archive/dataset.csv\", sep=\",\", encoding='latin1')\n",
        "df.head()"
      ]
    },
    {
      "cell_type": "markdown",
      "metadata": {},
      "source": [
        "# Data preprocessing"
      ]
    },
    {
      "cell_type": "code",
      "execution_count": 122,
      "metadata": {},
      "outputs": [
        {
          "data": {
            "text/html": [
              "<div>\n",
              "<style scoped>\n",
              "    .dataframe tbody tr th:only-of-type {\n",
              "        vertical-align: middle;\n",
              "    }\n",
              "\n",
              "    .dataframe tbody tr th {\n",
              "        vertical-align: top;\n",
              "    }\n",
              "\n",
              "    .dataframe thead th {\n",
              "        text-align: right;\n",
              "    }\n",
              "</style>\n",
              "<table border=\"1\" class=\"dataframe\">\n",
              "  <thead>\n",
              "    <tr style=\"text-align: right;\">\n",
              "      <th></th>\n",
              "      <th>userName</th>\n",
              "      <th>text</th>\n",
              "      <th>date</th>\n",
              "    </tr>\n",
              "  </thead>\n",
              "  <tbody>\n",
              "    <tr>\n",
              "      <th>0</th>\n",
              "      <td>ngui_sintan</td>\n",
              "      <td>Timnas kali ini semua cogan semua ya ????????</td>\n",
              "      <td>2024/04/29 10:16:56</td>\n",
              "    </tr>\n",
              "    <tr>\n",
              "      <th>1</th>\n",
              "      <td>agustiyaindahsariputri</td>\n",
              "      <td>Timnas Indonesia U-19 vs pra PON</td>\n",
              "      <td>2024/04/29 12:28:06</td>\n",
              "    </tr>\n",
              "    <tr>\n",
              "      <th>2</th>\n",
              "      <td>shaunevans_reff</td>\n",
              "      <td>????</td>\n",
              "      <td>2024/04/29 13:21:02</td>\n",
              "    </tr>\n",
              "    <tr>\n",
              "      <th>3</th>\n",
              "      <td>dslsyabildumps_</td>\n",
              "      <td>uhuyyyy????</td>\n",
              "      <td>2024/04/29 14:36:48</td>\n",
              "    </tr>\n",
              "    <tr>\n",
              "      <th>4</th>\n",
              "      <td>rohadiiiiiii</td>\n",
              "      <td>Final : waalykumsalam ????</td>\n",
              "      <td>2024/04/29 14:57:33</td>\n",
              "    </tr>\n",
              "  </tbody>\n",
              "</table>\n",
              "</div>"
            ],
            "text/plain": [
              "                 userName                                           text  \\\n",
              "0             ngui_sintan  Timnas kali ini semua cogan semua ya ????????   \n",
              "1  agustiyaindahsariputri               Timnas Indonesia U-19 vs pra PON   \n",
              "2         shaunevans_reff                                           ????   \n",
              "3         dslsyabildumps_                                    uhuyyyy????   \n",
              "4            rohadiiiiiii                     Final : waalykumsalam ????   \n",
              "\n",
              "                  date  \n",
              "0  2024/04/29 10:16:56  \n",
              "1  2024/04/29 12:28:06  \n",
              "2  2024/04/29 13:21:02  \n",
              "3  2024/04/29 14:36:48  \n",
              "4  2024/04/29 14:57:33  "
            ]
          },
          "execution_count": 122,
          "metadata": {},
          "output_type": "execute_result"
        }
      ],
      "source": [
        "df = df.drop('id', axis=1)\n",
        "df = df.drop('profileUrl', axis=1)\n",
        "df = df.drop('avatarUrl', axis=1)\n",
        "df.head()"
      ]
    },
    {
      "cell_type": "code",
      "execution_count": 123,
      "metadata": {},
      "outputs": [
        {
          "name": "stdout",
          "output_type": "stream",
          "text": [
            "<class 'pandas.core.frame.DataFrame'>\n",
            "RangeIndex: 789 entries, 0 to 788\n",
            "Data columns (total 3 columns):\n",
            " #   Column    Non-Null Count  Dtype \n",
            "---  ------    --------------  ----- \n",
            " 0   userName  789 non-null    object\n",
            " 1   text      788 non-null    object\n",
            " 2   date      789 non-null    object\n",
            "dtypes: object(3)\n",
            "memory usage: 18.6+ KB\n"
          ]
        }
      ],
      "source": [
        "df.info()"
      ]
    },
    {
      "cell_type": "code",
      "execution_count": 124,
      "metadata": {},
      "outputs": [
        {
          "data": {
            "text/plain": [
              "userName    0\n",
              "text        1\n",
              "date        0\n",
              "dtype: int64"
            ]
          },
          "execution_count": 124,
          "metadata": {},
          "output_type": "execute_result"
        }
      ],
      "source": [
        "df.isnull().sum()"
      ]
    },
    {
      "cell_type": "code",
      "execution_count": 125,
      "metadata": {},
      "outputs": [
        {
          "data": {
            "text/plain": [
              "userName    0\n",
              "text        0\n",
              "date        0\n",
              "dtype: int64"
            ]
          },
          "execution_count": 125,
          "metadata": {},
          "output_type": "execute_result"
        }
      ],
      "source": [
        "df=df.dropna()\n",
        "df.isnull().sum()"
      ]
    },
    {
      "cell_type": "code",
      "execution_count": 126,
      "metadata": {},
      "outputs": [
        {
          "data": {
            "text/plain": [
              "97"
            ]
          },
          "execution_count": 126,
          "metadata": {},
          "output_type": "execute_result"
        }
      ],
      "source": [
        "df.duplicated().sum()"
      ]
    },
    {
      "cell_type": "markdown",
      "metadata": {},
      "source": [
        "## Text preperation"
      ]
    },
    {
      "cell_type": "markdown",
      "metadata": {},
      "source": [
        "## 1- lower case"
      ]
    },
    {
      "cell_type": "code",
      "execution_count": 127,
      "metadata": {},
      "outputs": [
        {
          "data": {
            "text/html": [
              "<div>\n",
              "<style scoped>\n",
              "    .dataframe tbody tr th:only-of-type {\n",
              "        vertical-align: middle;\n",
              "    }\n",
              "\n",
              "    .dataframe tbody tr th {\n",
              "        vertical-align: top;\n",
              "    }\n",
              "\n",
              "    .dataframe thead th {\n",
              "        text-align: right;\n",
              "    }\n",
              "</style>\n",
              "<table border=\"1\" class=\"dataframe\">\n",
              "  <thead>\n",
              "    <tr style=\"text-align: right;\">\n",
              "      <th></th>\n",
              "      <th>userName</th>\n",
              "      <th>text</th>\n",
              "      <th>date</th>\n",
              "    </tr>\n",
              "  </thead>\n",
              "  <tbody>\n",
              "    <tr>\n",
              "      <th>0</th>\n",
              "      <td>ngui_sintan</td>\n",
              "      <td>timnas kali ini semua cogan semua ya ????????</td>\n",
              "      <td>2024/04/29 10:16:56</td>\n",
              "    </tr>\n",
              "    <tr>\n",
              "      <th>1</th>\n",
              "      <td>agustiyaindahsariputri</td>\n",
              "      <td>timnas indonesia u-19 vs pra pon</td>\n",
              "      <td>2024/04/29 12:28:06</td>\n",
              "    </tr>\n",
              "    <tr>\n",
              "      <th>2</th>\n",
              "      <td>shaunevans_reff</td>\n",
              "      <td>????</td>\n",
              "      <td>2024/04/29 13:21:02</td>\n",
              "    </tr>\n",
              "    <tr>\n",
              "      <th>3</th>\n",
              "      <td>dslsyabildumps_</td>\n",
              "      <td>uhuyyyy????</td>\n",
              "      <td>2024/04/29 14:36:48</td>\n",
              "    </tr>\n",
              "    <tr>\n",
              "      <th>4</th>\n",
              "      <td>rohadiiiiiii</td>\n",
              "      <td>final : waalykumsalam ????</td>\n",
              "      <td>2024/04/29 14:57:33</td>\n",
              "    </tr>\n",
              "  </tbody>\n",
              "</table>\n",
              "</div>"
            ],
            "text/plain": [
              "                 userName                                           text  \\\n",
              "0             ngui_sintan  timnas kali ini semua cogan semua ya ????????   \n",
              "1  agustiyaindahsariputri               timnas indonesia u-19 vs pra pon   \n",
              "2         shaunevans_reff                                           ????   \n",
              "3         dslsyabildumps_                                    uhuyyyy????   \n",
              "4            rohadiiiiiii                     final : waalykumsalam ????   \n",
              "\n",
              "                  date  \n",
              "0  2024/04/29 10:16:56  \n",
              "1  2024/04/29 12:28:06  \n",
              "2  2024/04/29 13:21:02  \n",
              "3  2024/04/29 14:36:48  \n",
              "4  2024/04/29 14:57:33  "
            ]
          },
          "execution_count": 127,
          "metadata": {},
          "output_type": "execute_result"
        }
      ],
      "source": [
        "df[\"text\"]=df[\"text\"].str.lower()\n",
        "df.head()"
      ]
    },
    {
      "cell_type": "code",
      "execution_count": 128,
      "metadata": {},
      "outputs": [],
      "source": [
        "## 2- remove html tags"
      ]
    },
    {
      "cell_type": "code",
      "execution_count": 129,
      "metadata": {},
      "outputs": [
        {
          "name": "stdout",
          "output_type": "stream",
          "text": [
            "Requirement already satisfied: beautifulsoup4 in c:\\users\\user01\\appdata\\local\\programs\\python\\python311\\lib\\site-packages (4.12.2)\n",
            "Requirement already satisfied: soupsieve>1.2 in c:\\users\\user01\\appdata\\local\\programs\\python\\python311\\lib\\site-packages (from beautifulsoup4) (2.5)\n"
          ]
        },
        {
          "name": "stderr",
          "output_type": "stream",
          "text": [
            "WARNING: Ignoring invalid distribution ~eras (C:\\Users\\user01\\AppData\\Roaming\\Python\\Python311\\site-packages)\n",
            "WARNING: Ignoring invalid distribution ~eras (C:\\Users\\user01\\AppData\\Roaming\\Python\\Python311\\site-packages)\n",
            "WARNING: Ignoring invalid distribution ~eras (C:\\Users\\user01\\AppData\\Roaming\\Python\\Python311\\site-packages)\n",
            "WARNING: Ignoring invalid distribution ~eras (C:\\Users\\user01\\AppData\\Roaming\\Python\\Python311\\site-packages)\n",
            "WARNING: Ignoring invalid distribution ~eras (C:\\Users\\user01\\AppData\\Roaming\\Python\\Python311\\site-packages)\n",
            "WARNING: Ignoring invalid distribution ~eras (C:\\Users\\user01\\AppData\\Roaming\\Python\\Python311\\site-packages)\n",
            "\n",
            "[notice] A new release of pip is available: 23.3.1 -> 24.0\n",
            "[notice] To update, run: python.exe -m pip install --upgrade pip\n"
          ]
        }
      ],
      "source": [
        "!pip install beautifulsoup4"
      ]
    },
    {
      "cell_type": "code",
      "execution_count": 130,
      "metadata": {},
      "outputs": [
        {
          "name": "stderr",
          "output_type": "stream",
          "text": [
            "C:\\Users\\user01\\AppData\\Local\\Temp\\ipykernel_14876\\3972790226.py:6: MarkupResemblesLocatorWarning: The input looks more like a filename than markup. You may want to open this file and pass the filehandle into Beautiful Soup.\n",
            "  soup = BeautifulSoup(text, 'html.parser')\n"
          ]
        },
        {
          "data": {
            "text/html": [
              "<div>\n",
              "<style scoped>\n",
              "    .dataframe tbody tr th:only-of-type {\n",
              "        vertical-align: middle;\n",
              "    }\n",
              "\n",
              "    .dataframe tbody tr th {\n",
              "        vertical-align: top;\n",
              "    }\n",
              "\n",
              "    .dataframe thead th {\n",
              "        text-align: right;\n",
              "    }\n",
              "</style>\n",
              "<table border=\"1\" class=\"dataframe\">\n",
              "  <thead>\n",
              "    <tr style=\"text-align: right;\">\n",
              "      <th></th>\n",
              "      <th>userName</th>\n",
              "      <th>text</th>\n",
              "      <th>date</th>\n",
              "      <th>has_html_tags</th>\n",
              "    </tr>\n",
              "  </thead>\n",
              "  <tbody>\n",
              "    <tr>\n",
              "      <th>0</th>\n",
              "      <td>ngui_sintan</td>\n",
              "      <td>timnas kali ini semua cogan semua ya ????????</td>\n",
              "      <td>2024/04/29 10:16:56</td>\n",
              "      <td>False</td>\n",
              "    </tr>\n",
              "    <tr>\n",
              "      <th>1</th>\n",
              "      <td>agustiyaindahsariputri</td>\n",
              "      <td>timnas indonesia u-19 vs pra pon</td>\n",
              "      <td>2024/04/29 12:28:06</td>\n",
              "      <td>False</td>\n",
              "    </tr>\n",
              "    <tr>\n",
              "      <th>2</th>\n",
              "      <td>shaunevans_reff</td>\n",
              "      <td>????</td>\n",
              "      <td>2024/04/29 13:21:02</td>\n",
              "      <td>False</td>\n",
              "    </tr>\n",
              "    <tr>\n",
              "      <th>3</th>\n",
              "      <td>dslsyabildumps_</td>\n",
              "      <td>uhuyyyy????</td>\n",
              "      <td>2024/04/29 14:36:48</td>\n",
              "      <td>False</td>\n",
              "    </tr>\n",
              "    <tr>\n",
              "      <th>4</th>\n",
              "      <td>rohadiiiiiii</td>\n",
              "      <td>final : waalykumsalam ????</td>\n",
              "      <td>2024/04/29 14:57:33</td>\n",
              "      <td>False</td>\n",
              "    </tr>\n",
              "  </tbody>\n",
              "</table>\n",
              "</div>"
            ],
            "text/plain": [
              "                 userName                                           text  \\\n",
              "0             ngui_sintan  timnas kali ini semua cogan semua ya ????????   \n",
              "1  agustiyaindahsariputri               timnas indonesia u-19 vs pra pon   \n",
              "2         shaunevans_reff                                           ????   \n",
              "3         dslsyabildumps_                                    uhuyyyy????   \n",
              "4            rohadiiiiiii                     final : waalykumsalam ????   \n",
              "\n",
              "                  date  has_html_tags  \n",
              "0  2024/04/29 10:16:56          False  \n",
              "1  2024/04/29 12:28:06          False  \n",
              "2  2024/04/29 13:21:02          False  \n",
              "3  2024/04/29 14:36:48          False  \n",
              "4  2024/04/29 14:57:33          False  "
            ]
          },
          "execution_count": 130,
          "metadata": {},
          "output_type": "execute_result"
        }
      ],
      "source": [
        "from bs4 import BeautifulSoup\n",
        "\n",
        "## check if there is html tags\n",
        "\n",
        "def has_html_tags(text):\n",
        "    soup = BeautifulSoup(text, 'html.parser')\n",
        "    return bool(soup.find())\n",
        "\n",
        "df['has_html_tags'] = df['text'].apply(has_html_tags)\n",
        "df.head()"
      ]
    },
    {
      "cell_type": "code",
      "execution_count": 131,
      "metadata": {},
      "outputs": [
        {
          "data": {
            "text/plain": [
              "0"
            ]
          },
          "execution_count": 131,
          "metadata": {},
          "output_type": "execute_result"
        }
      ],
      "source": [
        "count_true = df['has_html_tags'].sum()\n",
        "count_true"
      ]
    },
    {
      "cell_type": "code",
      "execution_count": 132,
      "metadata": {},
      "outputs": [
        {
          "data": {
            "text/html": [
              "<div>\n",
              "<style scoped>\n",
              "    .dataframe tbody tr th:only-of-type {\n",
              "        vertical-align: middle;\n",
              "    }\n",
              "\n",
              "    .dataframe tbody tr th {\n",
              "        vertical-align: top;\n",
              "    }\n",
              "\n",
              "    .dataframe thead th {\n",
              "        text-align: right;\n",
              "    }\n",
              "</style>\n",
              "<table border=\"1\" class=\"dataframe\">\n",
              "  <thead>\n",
              "    <tr style=\"text-align: right;\">\n",
              "      <th></th>\n",
              "      <th>userName</th>\n",
              "      <th>text</th>\n",
              "      <th>date</th>\n",
              "    </tr>\n",
              "  </thead>\n",
              "  <tbody>\n",
              "    <tr>\n",
              "      <th>0</th>\n",
              "      <td>ngui_sintan</td>\n",
              "      <td>timnas kali ini semua cogan semua ya ????????</td>\n",
              "      <td>2024/04/29 10:16:56</td>\n",
              "    </tr>\n",
              "    <tr>\n",
              "      <th>1</th>\n",
              "      <td>agustiyaindahsariputri</td>\n",
              "      <td>timnas indonesia u-19 vs pra pon</td>\n",
              "      <td>2024/04/29 12:28:06</td>\n",
              "    </tr>\n",
              "    <tr>\n",
              "      <th>2</th>\n",
              "      <td>shaunevans_reff</td>\n",
              "      <td>????</td>\n",
              "      <td>2024/04/29 13:21:02</td>\n",
              "    </tr>\n",
              "    <tr>\n",
              "      <th>3</th>\n",
              "      <td>dslsyabildumps_</td>\n",
              "      <td>uhuyyyy????</td>\n",
              "      <td>2024/04/29 14:36:48</td>\n",
              "    </tr>\n",
              "    <tr>\n",
              "      <th>4</th>\n",
              "      <td>rohadiiiiiii</td>\n",
              "      <td>final : waalykumsalam ????</td>\n",
              "      <td>2024/04/29 14:57:33</td>\n",
              "    </tr>\n",
              "  </tbody>\n",
              "</table>\n",
              "</div>"
            ],
            "text/plain": [
              "                 userName                                           text  \\\n",
              "0             ngui_sintan  timnas kali ini semua cogan semua ya ????????   \n",
              "1  agustiyaindahsariputri               timnas indonesia u-19 vs pra pon   \n",
              "2         shaunevans_reff                                           ????   \n",
              "3         dslsyabildumps_                                    uhuyyyy????   \n",
              "4            rohadiiiiiii                     final : waalykumsalam ????   \n",
              "\n",
              "                  date  \n",
              "0  2024/04/29 10:16:56  \n",
              "1  2024/04/29 12:28:06  \n",
              "2  2024/04/29 13:21:02  \n",
              "3  2024/04/29 14:36:48  \n",
              "4  2024/04/29 14:57:33  "
            ]
          },
          "execution_count": 132,
          "metadata": {},
          "output_type": "execute_result"
        }
      ],
      "source": [
        "df = df.drop('has_html_tags', axis=1)\n",
        "df.head()"
      ]
    },
    {
      "cell_type": "markdown",
      "metadata": {},
      "source": [
        "## 3- remove emojies"
      ]
    },
    {
      "cell_type": "code",
      "execution_count": 133,
      "metadata": {},
      "outputs": [
        {
          "name": "stdout",
          "output_type": "stream",
          "text": [
            "Requirement already satisfied: emoji in c:\\users\\user01\\appdata\\local\\programs\\python\\python311\\lib\\site-packages (2.12.1)"
          ]
        },
        {
          "name": "stderr",
          "output_type": "stream",
          "text": [
            "WARNING: Ignoring invalid distribution ~eras (C:\\Users\\user01\\AppData\\Roaming\\Python\\Python311\\site-packages)\n",
            "WARNING: Ignoring invalid distribution ~eras (C:\\Users\\user01\\AppData\\Roaming\\Python\\Python311\\site-packages)\n",
            "WARNING: Ignoring invalid distribution ~eras (C:\\Users\\user01\\AppData\\Roaming\\Python\\Python311\\site-packages)\n",
            "WARNING: Ignoring invalid distribution ~eras (C:\\Users\\user01\\AppData\\Roaming\\Python\\Python311\\site-packages)\n",
            "WARNING: Ignoring invalid distribution ~eras (C:\\Users\\user01\\AppData\\Roaming\\Python\\Python311\\site-packages)\n",
            "WARNING: Ignoring invalid distribution ~eras (C:\\Users\\user01\\AppData\\Roaming\\Python\\Python311\\site-packages)\n",
            "\n",
            "[notice] A new release of pip is available: 23.3.1 -> 24.0\n",
            "[notice] To update, run: python.exe -m pip install --upgrade pip\n"
          ]
        },
        {
          "name": "stdout",
          "output_type": "stream",
          "text": [
            "\n",
            "Requirement already satisfied: typing-extensions>=4.7.0 in c:\\users\\user01\\appdata\\local\\programs\\python\\python311\\lib\\site-packages (from emoji) (4.8.0)\n"
          ]
        }
      ],
      "source": [
        "!pip install emoji"
      ]
    },
    {
      "cell_type": "code",
      "execution_count": 134,
      "metadata": {},
      "outputs": [
        {
          "name": "stdout",
          "output_type": "stream",
          "text": [
            "Requirement already satisfied: regex in c:\\users\\user01\\appdata\\local\\programs\\python\\python311\\lib\\site-packages (2023.12.25)\n"
          ]
        },
        {
          "name": "stderr",
          "output_type": "stream",
          "text": [
            "WARNING: Ignoring invalid distribution ~eras (C:\\Users\\user01\\AppData\\Roaming\\Python\\Python311\\site-packages)\n",
            "WARNING: Ignoring invalid distribution ~eras (C:\\Users\\user01\\AppData\\Roaming\\Python\\Python311\\site-packages)\n",
            "WARNING: Ignoring invalid distribution ~eras (C:\\Users\\user01\\AppData\\Roaming\\Python\\Python311\\site-packages)\n",
            "WARNING: Ignoring invalid distribution ~eras (C:\\Users\\user01\\AppData\\Roaming\\Python\\Python311\\site-packages)\n",
            "WARNING: Ignoring invalid distribution ~eras (C:\\Users\\user01\\AppData\\Roaming\\Python\\Python311\\site-packages)\n",
            "WARNING: Ignoring invalid distribution ~eras (C:\\Users\\user01\\AppData\\Roaming\\Python\\Python311\\site-packages)\n",
            "\n",
            "[notice] A new release of pip is available: 23.3.1 -> 24.0\n",
            "[notice] To update, run: python.exe -m pip install --upgrade pip\n"
          ]
        }
      ],
      "source": [
        "!pip install regex"
      ]
    },
    {
      "cell_type": "code",
      "execution_count": 135,
      "metadata": {},
      "outputs": [
        {
          "name": "stdout",
          "output_type": "stream",
          "text": [
            "Requirement already satisfied: emoji in c:\\users\\user01\\appdata\\local\\programs\\python\\python311\\lib\\site-packages (2.12.1)\n",
            "Requirement already satisfied: typing-extensions>=4.7.0 in c:\\users\\user01\\appdata\\local\\programs\\python\\python311\\lib\\site-packages (from emoji) (4.8.0)\n"
          ]
        },
        {
          "name": "stderr",
          "output_type": "stream",
          "text": [
            "WARNING: Ignoring invalid distribution ~eras (C:\\Users\\user01\\AppData\\Roaming\\Python\\Python311\\site-packages)\n",
            "WARNING: Ignoring invalid distribution ~eras (C:\\Users\\user01\\AppData\\Roaming\\Python\\Python311\\site-packages)\n",
            "WARNING: Ignoring invalid distribution ~eras (C:\\Users\\user01\\AppData\\Roaming\\Python\\Python311\\site-packages)\n",
            "WARNING: Ignoring invalid distribution ~eras (C:\\Users\\user01\\AppData\\Roaming\\Python\\Python311\\site-packages)\n",
            "WARNING: Ignoring invalid distribution ~eras (C:\\Users\\user01\\AppData\\Roaming\\Python\\Python311\\site-packages)\n",
            "WARNING: Ignoring invalid distribution ~eras (C:\\Users\\user01\\AppData\\Roaming\\Python\\Python311\\site-packages)\n",
            "\n",
            "[notice] A new release of pip is available: 23.3.1 -> 24.0\n",
            "[notice] To update, run: python.exe -m pip install --upgrade pip\n"
          ]
        }
      ],
      "source": [
        "!pip install --upgrade emoji"
      ]
    },
    {
      "cell_type": "code",
      "execution_count": 136,
      "metadata": {},
      "outputs": [
        {
          "data": {
            "text/plain": [
              "0      False\n",
              "1       True\n",
              "2      False\n",
              "3      False\n",
              "4      False\n",
              "       ...  \n",
              "784    False\n",
              "785    False\n",
              "786     True\n",
              "787    False\n",
              "788    False\n",
              "Name: text, Length: 788, dtype: bool"
            ]
          },
          "execution_count": 136,
          "metadata": {},
          "output_type": "execute_result"
        }
      ],
      "source": [
        "import regex\n",
        "import pandas as pd\n",
        "\n",
        "# Function to check if a string contains emojis using a Unicode character property\n",
        "def has_emoji(text):\n",
        "    emoji_pattern = regex.compile(r'\\p{Emoji}', flags=regex.UNICODE)\n",
        "    return bool(emoji_pattern.search(text))\n",
        "\n",
        "\n",
        "has_emojis =  df['text'].apply(has_emoji)\n",
        "\n",
        "has_emojis"
      ]
    },
    {
      "cell_type": "code",
      "execution_count": 137,
      "metadata": {},
      "outputs": [
        {
          "data": {
            "text/plain": [
              "102"
            ]
          },
          "execution_count": 137,
          "metadata": {},
          "output_type": "execute_result"
        }
      ],
      "source": [
        "has_emojis.sum()"
      ]
    },
    {
      "cell_type": "markdown",
      "metadata": {},
      "source": [
        "## 4- remove URLs"
      ]
    },
    {
      "cell_type": "code",
      "execution_count": 138,
      "metadata": {},
      "outputs": [
        {
          "data": {
            "text/html": [
              "<div>\n",
              "<style scoped>\n",
              "    .dataframe tbody tr th:only-of-type {\n",
              "        vertical-align: middle;\n",
              "    }\n",
              "\n",
              "    .dataframe tbody tr th {\n",
              "        vertical-align: top;\n",
              "    }\n",
              "\n",
              "    .dataframe thead th {\n",
              "        text-align: right;\n",
              "    }\n",
              "</style>\n",
              "<table border=\"1\" class=\"dataframe\">\n",
              "  <thead>\n",
              "    <tr style=\"text-align: right;\">\n",
              "      <th></th>\n",
              "      <th>userName</th>\n",
              "      <th>text</th>\n",
              "      <th>date</th>\n",
              "    </tr>\n",
              "  </thead>\n",
              "  <tbody>\n",
              "    <tr>\n",
              "      <th>0</th>\n",
              "      <td>ngui_sintan</td>\n",
              "      <td>timnas kali ini semua cogan semua ya ????????</td>\n",
              "      <td>2024/04/29 10:16:56</td>\n",
              "    </tr>\n",
              "    <tr>\n",
              "      <th>1</th>\n",
              "      <td>agustiyaindahsariputri</td>\n",
              "      <td>timnas indonesia u-19 vs pra pon</td>\n",
              "      <td>2024/04/29 12:28:06</td>\n",
              "    </tr>\n",
              "    <tr>\n",
              "      <th>2</th>\n",
              "      <td>shaunevans_reff</td>\n",
              "      <td>????</td>\n",
              "      <td>2024/04/29 13:21:02</td>\n",
              "    </tr>\n",
              "    <tr>\n",
              "      <th>3</th>\n",
              "      <td>dslsyabildumps_</td>\n",
              "      <td>uhuyyyy????</td>\n",
              "      <td>2024/04/29 14:36:48</td>\n",
              "    </tr>\n",
              "    <tr>\n",
              "      <th>4</th>\n",
              "      <td>rohadiiiiiii</td>\n",
              "      <td>final : waalykumsalam ????</td>\n",
              "      <td>2024/04/29 14:57:33</td>\n",
              "    </tr>\n",
              "  </tbody>\n",
              "</table>\n",
              "</div>"
            ],
            "text/plain": [
              "                 userName                                           text  \\\n",
              "0             ngui_sintan  timnas kali ini semua cogan semua ya ????????   \n",
              "1  agustiyaindahsariputri               timnas indonesia u-19 vs pra pon   \n",
              "2         shaunevans_reff                                           ????   \n",
              "3         dslsyabildumps_                                    uhuyyyy????   \n",
              "4            rohadiiiiiii                     final : waalykumsalam ????   \n",
              "\n",
              "                  date  \n",
              "0  2024/04/29 10:16:56  \n",
              "1  2024/04/29 12:28:06  \n",
              "2  2024/04/29 13:21:02  \n",
              "3  2024/04/29 14:36:48  \n",
              "4  2024/04/29 14:57:33  "
            ]
          },
          "execution_count": 138,
          "metadata": {},
          "output_type": "execute_result"
        }
      ],
      "source": [
        "import re\n",
        "def remove_url(text):\n",
        "    pattern=re.compile(r'https?://\\S+|www\\.S+')\n",
        "    return pattern.sub(r'',text)\n",
        "df[\"text\"]=df[\"text\"].apply(remove_url)\n",
        "\n",
        "df.head()"
      ]
    },
    {
      "cell_type": "markdown",
      "metadata": {},
      "source": [
        "## 5- Remove puncatution"
      ]
    },
    {
      "cell_type": "code",
      "execution_count": 139,
      "metadata": {},
      "outputs": [
        {
          "data": {
            "text/plain": [
              "'!\"#$%&\\'()*+,-./:;<=>?@[\\\\]^_`{|}~'"
            ]
          },
          "execution_count": 139,
          "metadata": {},
          "output_type": "execute_result"
        }
      ],
      "source": [
        "import string\n",
        "string.punctuation"
      ]
    },
    {
      "cell_type": "code",
      "execution_count": 140,
      "metadata": {},
      "outputs": [],
      "source": [
        "punc=string.punctuation"
      ]
    },
    {
      "cell_type": "code",
      "execution_count": 141,
      "metadata": {},
      "outputs": [
        {
          "data": {
            "text/html": [
              "<div>\n",
              "<style scoped>\n",
              "    .dataframe tbody tr th:only-of-type {\n",
              "        vertical-align: middle;\n",
              "    }\n",
              "\n",
              "    .dataframe tbody tr th {\n",
              "        vertical-align: top;\n",
              "    }\n",
              "\n",
              "    .dataframe thead th {\n",
              "        text-align: right;\n",
              "    }\n",
              "</style>\n",
              "<table border=\"1\" class=\"dataframe\">\n",
              "  <thead>\n",
              "    <tr style=\"text-align: right;\">\n",
              "      <th></th>\n",
              "      <th>userName</th>\n",
              "      <th>text</th>\n",
              "      <th>date</th>\n",
              "    </tr>\n",
              "  </thead>\n",
              "  <tbody>\n",
              "    <tr>\n",
              "      <th>0</th>\n",
              "      <td>ngui_sintan</td>\n",
              "      <td>timnas kali ini semua cogan semua ya</td>\n",
              "      <td>2024/04/29 10:16:56</td>\n",
              "    </tr>\n",
              "    <tr>\n",
              "      <th>1</th>\n",
              "      <td>agustiyaindahsariputri</td>\n",
              "      <td>timnas indonesia u19 vs pra pon</td>\n",
              "      <td>2024/04/29 12:28:06</td>\n",
              "    </tr>\n",
              "    <tr>\n",
              "      <th>2</th>\n",
              "      <td>shaunevans_reff</td>\n",
              "      <td></td>\n",
              "      <td>2024/04/29 13:21:02</td>\n",
              "    </tr>\n",
              "    <tr>\n",
              "      <th>3</th>\n",
              "      <td>dslsyabildumps_</td>\n",
              "      <td>uhuyyyy</td>\n",
              "      <td>2024/04/29 14:36:48</td>\n",
              "    </tr>\n",
              "    <tr>\n",
              "      <th>4</th>\n",
              "      <td>rohadiiiiiii</td>\n",
              "      <td>final  waalykumsalam</td>\n",
              "      <td>2024/04/29 14:57:33</td>\n",
              "    </tr>\n",
              "  </tbody>\n",
              "</table>\n",
              "</div>"
            ],
            "text/plain": [
              "                 userName                                   text  \\\n",
              "0             ngui_sintan  timnas kali ini semua cogan semua ya    \n",
              "1  agustiyaindahsariputri        timnas indonesia u19 vs pra pon   \n",
              "2         shaunevans_reff                                          \n",
              "3         dslsyabildumps_                                uhuyyyy   \n",
              "4            rohadiiiiiii                  final  waalykumsalam    \n",
              "\n",
              "                  date  \n",
              "0  2024/04/29 10:16:56  \n",
              "1  2024/04/29 12:28:06  \n",
              "2  2024/04/29 13:21:02  \n",
              "3  2024/04/29 14:36:48  \n",
              "4  2024/04/29 14:57:33  "
            ]
          },
          "execution_count": 141,
          "metadata": {},
          "output_type": "execute_result"
        }
      ],
      "source": [
        "def remove_punc(text):\n",
        "    return text.translate(str.maketrans('', '',punc))\n",
        "\n",
        "df[\"text\"]=df[\"text\"].apply(remove_punc)\n",
        "df.head()"
      ]
    },
    {
      "cell_type": "markdown",
      "metadata": {},
      "source": [
        "## 6- remove stop words"
      ]
    },
    {
      "cell_type": "code",
      "execution_count": 142,
      "metadata": {},
      "outputs": [
        {
          "name": "stderr",
          "output_type": "stream",
          "text": [
            "[nltk_data] Downloading package stopwords to\n",
            "[nltk_data]     C:\\Users\\user01\\AppData\\Roaming\\nltk_data...\n",
            "[nltk_data]   Package stopwords is already up-to-date!\n"
          ]
        }
      ],
      "source": [
        "from nltk.corpus import stopwords\n",
        "import nltk\n",
        "nltk.download('stopwords')\n",
        "stop_words=set(stopwords.words('english'))"
      ]
    },
    {
      "cell_type": "code",
      "execution_count": 143,
      "metadata": {},
      "outputs": [
        {
          "data": {
            "text/html": [
              "<div>\n",
              "<style scoped>\n",
              "    .dataframe tbody tr th:only-of-type {\n",
              "        vertical-align: middle;\n",
              "    }\n",
              "\n",
              "    .dataframe tbody tr th {\n",
              "        vertical-align: top;\n",
              "    }\n",
              "\n",
              "    .dataframe thead th {\n",
              "        text-align: right;\n",
              "    }\n",
              "</style>\n",
              "<table border=\"1\" class=\"dataframe\">\n",
              "  <thead>\n",
              "    <tr style=\"text-align: right;\">\n",
              "      <th></th>\n",
              "      <th>userName</th>\n",
              "      <th>text</th>\n",
              "      <th>date</th>\n",
              "    </tr>\n",
              "  </thead>\n",
              "  <tbody>\n",
              "    <tr>\n",
              "      <th>0</th>\n",
              "      <td>ngui_sintan</td>\n",
              "      <td>timnas kali ini semua cogan semua ya</td>\n",
              "      <td>2024/04/29 10:16:56</td>\n",
              "    </tr>\n",
              "    <tr>\n",
              "      <th>1</th>\n",
              "      <td>agustiyaindahsariputri</td>\n",
              "      <td>timnas indonesia u19 vs pra pon</td>\n",
              "      <td>2024/04/29 12:28:06</td>\n",
              "    </tr>\n",
              "    <tr>\n",
              "      <th>2</th>\n",
              "      <td>shaunevans_reff</td>\n",
              "      <td></td>\n",
              "      <td>2024/04/29 13:21:02</td>\n",
              "    </tr>\n",
              "    <tr>\n",
              "      <th>3</th>\n",
              "      <td>dslsyabildumps_</td>\n",
              "      <td>uhuyyyy</td>\n",
              "      <td>2024/04/29 14:36:48</td>\n",
              "    </tr>\n",
              "    <tr>\n",
              "      <th>4</th>\n",
              "      <td>rohadiiiiiii</td>\n",
              "      <td>final waalykumsalam</td>\n",
              "      <td>2024/04/29 14:57:33</td>\n",
              "    </tr>\n",
              "  </tbody>\n",
              "</table>\n",
              "</div>"
            ],
            "text/plain": [
              "                 userName                                  text  \\\n",
              "0             ngui_sintan  timnas kali ini semua cogan semua ya   \n",
              "1  agustiyaindahsariputri       timnas indonesia u19 vs pra pon   \n",
              "2         shaunevans_reff                                         \n",
              "3         dslsyabildumps_                               uhuyyyy   \n",
              "4            rohadiiiiiii                   final waalykumsalam   \n",
              "\n",
              "                  date  \n",
              "0  2024/04/29 10:16:56  \n",
              "1  2024/04/29 12:28:06  \n",
              "2  2024/04/29 13:21:02  \n",
              "3  2024/04/29 14:36:48  \n",
              "4  2024/04/29 14:57:33  "
            ]
          },
          "execution_count": 143,
          "metadata": {},
          "output_type": "execute_result"
        }
      ],
      "source": [
        "def remove_stopwords(text):\n",
        "    words = text.split()\n",
        "    filtered_words = [word for word in words if word not in stop_words]\n",
        "    return \" \".join(filtered_words)\n",
        "\n",
        "df[\"text\"]=df[\"text\"].apply(lambda x: remove_stopwords(x))\n",
        "\n",
        "df.head()"
      ]
    },
    {
      "cell_type": "markdown",
      "metadata": {},
      "source": [
        "## 7- Tokenize"
      ]
    },
    {
      "cell_type": "code",
      "execution_count": 144,
      "metadata": {},
      "outputs": [
        {
          "name": "stderr",
          "output_type": "stream",
          "text": [
            "[nltk_data] Downloading package punkt to\n",
            "[nltk_data]     C:\\Users\\user01\\AppData\\Roaming\\nltk_data...\n",
            "[nltk_data]   Package punkt is already up-to-date!\n"
          ]
        },
        {
          "data": {
            "text/html": [
              "<div>\n",
              "<style scoped>\n",
              "    .dataframe tbody tr th:only-of-type {\n",
              "        vertical-align: middle;\n",
              "    }\n",
              "\n",
              "    .dataframe tbody tr th {\n",
              "        vertical-align: top;\n",
              "    }\n",
              "\n",
              "    .dataframe thead th {\n",
              "        text-align: right;\n",
              "    }\n",
              "</style>\n",
              "<table border=\"1\" class=\"dataframe\">\n",
              "  <thead>\n",
              "    <tr style=\"text-align: right;\">\n",
              "      <th></th>\n",
              "      <th>userName</th>\n",
              "      <th>text</th>\n",
              "      <th>date</th>\n",
              "      <th>Complaint_tokenized_text</th>\n",
              "    </tr>\n",
              "  </thead>\n",
              "  <tbody>\n",
              "    <tr>\n",
              "      <th>0</th>\n",
              "      <td>ngui_sintan</td>\n",
              "      <td>timnas kali ini semua cogan semua ya</td>\n",
              "      <td>2024/04/29 10:16:56</td>\n",
              "      <td>[[timnas, kali, ini, semua, cogan, semua, ya]]</td>\n",
              "    </tr>\n",
              "    <tr>\n",
              "      <th>1</th>\n",
              "      <td>agustiyaindahsariputri</td>\n",
              "      <td>timnas indonesia u19 vs pra pon</td>\n",
              "      <td>2024/04/29 12:28:06</td>\n",
              "      <td>[[timnas, indonesia, u19, vs, pra, pon]]</td>\n",
              "    </tr>\n",
              "    <tr>\n",
              "      <th>2</th>\n",
              "      <td>shaunevans_reff</td>\n",
              "      <td></td>\n",
              "      <td>2024/04/29 13:21:02</td>\n",
              "      <td>[]</td>\n",
              "    </tr>\n",
              "    <tr>\n",
              "      <th>3</th>\n",
              "      <td>dslsyabildumps_</td>\n",
              "      <td>uhuyyyy</td>\n",
              "      <td>2024/04/29 14:36:48</td>\n",
              "      <td>[[uhuyyyy]]</td>\n",
              "    </tr>\n",
              "    <tr>\n",
              "      <th>4</th>\n",
              "      <td>rohadiiiiiii</td>\n",
              "      <td>final waalykumsalam</td>\n",
              "      <td>2024/04/29 14:57:33</td>\n",
              "      <td>[[final, waalykumsalam]]</td>\n",
              "    </tr>\n",
              "  </tbody>\n",
              "</table>\n",
              "</div>"
            ],
            "text/plain": [
              "                 userName                                  text  \\\n",
              "0             ngui_sintan  timnas kali ini semua cogan semua ya   \n",
              "1  agustiyaindahsariputri       timnas indonesia u19 vs pra pon   \n",
              "2         shaunevans_reff                                         \n",
              "3         dslsyabildumps_                               uhuyyyy   \n",
              "4            rohadiiiiiii                   final waalykumsalam   \n",
              "\n",
              "                  date                        Complaint_tokenized_text  \n",
              "0  2024/04/29 10:16:56  [[timnas, kali, ini, semua, cogan, semua, ya]]  \n",
              "1  2024/04/29 12:28:06        [[timnas, indonesia, u19, vs, pra, pon]]  \n",
              "2  2024/04/29 13:21:02                                              []  \n",
              "3  2024/04/29 14:36:48                                     [[uhuyyyy]]  \n",
              "4  2024/04/29 14:57:33                        [[final, waalykumsalam]]  "
            ]
          },
          "execution_count": 144,
          "metadata": {},
          "output_type": "execute_result"
        }
      ],
      "source": [
        "import nltk\n",
        "nltk.download('punkt')\n",
        "from nltk import word_tokenize, sent_tokenize\n",
        "\n",
        "# Function to apply sentence and word tokenization\n",
        "def tokenize_text(text):\n",
        "    sentences = sent_tokenize(text)\n",
        "    words = [word_tokenize(sentence) for sentence in sentences]\n",
        "    return words\n",
        "\n",
        "df['Complaint_tokenized_text'] = df['text'].apply(tokenize_text)\n",
        "\n",
        "df.head()"
      ]
    },
    {
      "cell_type": "code",
      "execution_count": 145,
      "metadata": {},
      "outputs": [
        {
          "data": {
            "text/plain": [
              "['timnas', 'kali', 'ini', 'semua', 'cogan', 'semua', 'ya']"
            ]
          },
          "execution_count": 145,
          "metadata": {},
          "output_type": "execute_result"
        }
      ],
      "source": [
        "df[\"Complaint_tokenized_text\"][0][0]"
      ]
    },
    {
      "cell_type": "code",
      "execution_count": 146,
      "metadata": {},
      "outputs": [
        {
          "name": "stderr",
          "output_type": "stream",
          "text": [
            "C:\\Users\\user01\\AppData\\Local\\Temp\\ipykernel_14876\\2659333811.py:1: FutureWarning: DataFrame.applymap has been deprecated. Use DataFrame.map instead.\n",
            "  single_space_mask = df.applymap(lambda x: x == '')\n"
          ]
        },
        {
          "data": {
            "text/html": [
              "<div>\n",
              "<style scoped>\n",
              "    .dataframe tbody tr th:only-of-type {\n",
              "        vertical-align: middle;\n",
              "    }\n",
              "\n",
              "    .dataframe tbody tr th {\n",
              "        vertical-align: top;\n",
              "    }\n",
              "\n",
              "    .dataframe thead th {\n",
              "        text-align: right;\n",
              "    }\n",
              "</style>\n",
              "<table border=\"1\" class=\"dataframe\">\n",
              "  <thead>\n",
              "    <tr style=\"text-align: right;\">\n",
              "      <th></th>\n",
              "      <th>userName</th>\n",
              "      <th>text</th>\n",
              "      <th>date</th>\n",
              "      <th>Complaint_tokenized_text</th>\n",
              "    </tr>\n",
              "  </thead>\n",
              "  <tbody>\n",
              "    <tr>\n",
              "      <th>0</th>\n",
              "      <td>ngui_sintan</td>\n",
              "      <td>timnas kali ini semua cogan semua ya</td>\n",
              "      <td>2024/04/29 10:16:56</td>\n",
              "      <td>[[timnas, kali, ini, semua, cogan, semua, ya]]</td>\n",
              "    </tr>\n",
              "    <tr>\n",
              "      <th>1</th>\n",
              "      <td>agustiyaindahsariputri</td>\n",
              "      <td>timnas indonesia u19 vs pra pon</td>\n",
              "      <td>2024/04/29 12:28:06</td>\n",
              "      <td>[[timnas, indonesia, u19, vs, pra, pon]]</td>\n",
              "    </tr>\n",
              "    <tr>\n",
              "      <th>3</th>\n",
              "      <td>dslsyabildumps_</td>\n",
              "      <td>uhuyyyy</td>\n",
              "      <td>2024/04/29 14:36:48</td>\n",
              "      <td>[[uhuyyyy]]</td>\n",
              "    </tr>\n",
              "    <tr>\n",
              "      <th>4</th>\n",
              "      <td>rohadiiiiiii</td>\n",
              "      <td>final waalykumsalam</td>\n",
              "      <td>2024/04/29 14:57:33</td>\n",
              "      <td>[[final, waalykumsalam]]</td>\n",
              "    </tr>\n",
              "    <tr>\n",
              "      <th>5</th>\n",
              "      <td>ayunabilaaaaa</td>\n",
              "      <td>beyond proud</td>\n",
              "      <td>2024/04/29 16:31:02</td>\n",
              "      <td>[[beyond, proud]]</td>\n",
              "    </tr>\n",
              "  </tbody>\n",
              "</table>\n",
              "</div>"
            ],
            "text/plain": [
              "                 userName                                  text  \\\n",
              "0             ngui_sintan  timnas kali ini semua cogan semua ya   \n",
              "1  agustiyaindahsariputri       timnas indonesia u19 vs pra pon   \n",
              "3         dslsyabildumps_                               uhuyyyy   \n",
              "4            rohadiiiiiii                   final waalykumsalam   \n",
              "5           ayunabilaaaaa                          beyond proud   \n",
              "\n",
              "                  date                        Complaint_tokenized_text  \n",
              "0  2024/04/29 10:16:56  [[timnas, kali, ini, semua, cogan, semua, ya]]  \n",
              "1  2024/04/29 12:28:06        [[timnas, indonesia, u19, vs, pra, pon]]  \n",
              "3  2024/04/29 14:36:48                                     [[uhuyyyy]]  \n",
              "4  2024/04/29 14:57:33                        [[final, waalykumsalam]]  \n",
              "5  2024/04/29 16:31:02                               [[beyond, proud]]  "
            ]
          },
          "execution_count": 146,
          "metadata": {},
          "output_type": "execute_result"
        }
      ],
      "source": [
        "single_space_mask = df.applymap(lambda x: x == '')\n",
        "rows_with_single_space = df[single_space_mask.any(axis=1)]\n",
        "rows_with_single_space\n",
        "df = df[~single_space_mask.any(axis=1)]\n",
        "df.head(1000)"
      ]
    },
    {
      "cell_type": "code",
      "execution_count": 148,
      "metadata": {},
      "outputs": [
        {
          "data": {
            "text/html": [
              "<div>\n",
              "<style scoped>\n",
              "    .dataframe tbody tr th:only-of-type {\n",
              "        vertical-align: middle;\n",
              "    }\n",
              "\n",
              "    .dataframe tbody tr th {\n",
              "        vertical-align: top;\n",
              "    }\n",
              "\n",
              "    .dataframe thead th {\n",
              "        text-align: right;\n",
              "    }\n",
              "</style>\n",
              "<table border=\"1\" class=\"dataframe\">\n",
              "  <thead>\n",
              "    <tr style=\"text-align: right;\">\n",
              "      <th></th>\n",
              "      <th>userName</th>\n",
              "      <th>text</th>\n",
              "      <th>date</th>\n",
              "      <th>Complaint_tokenized_text</th>\n",
              "    </tr>\n",
              "  </thead>\n",
              "  <tbody>\n",
              "    <tr>\n",
              "      <th>0</th>\n",
              "      <td>ngui_sintan</td>\n",
              "      <td>timnas kali ini semua cogan semua ya</td>\n",
              "      <td>2024/04/29 10:16:56</td>\n",
              "      <td>[[timnas, kali, ini, semua, cogan, semua, ya]]</td>\n",
              "    </tr>\n",
              "    <tr>\n",
              "      <th>1</th>\n",
              "      <td>agustiyaindahsariputri</td>\n",
              "      <td>timnas indonesia u19 vs pra pon</td>\n",
              "      <td>2024/04/29 12:28:06</td>\n",
              "      <td>[[timnas, indonesia, u19, vs, pra, pon]]</td>\n",
              "    </tr>\n",
              "    <tr>\n",
              "      <th>3</th>\n",
              "      <td>dslsyabildumps_</td>\n",
              "      <td>uhuyyyy</td>\n",
              "      <td>2024/04/29 14:36:48</td>\n",
              "      <td>[[uhuyyyy]]</td>\n",
              "    </tr>\n",
              "    <tr>\n",
              "      <th>4</th>\n",
              "      <td>rohadiiiiiii</td>\n",
              "      <td>final waalykumsalam</td>\n",
              "      <td>2024/04/29 14:57:33</td>\n",
              "      <td>[[final, waalykumsalam]]</td>\n",
              "    </tr>\n",
              "    <tr>\n",
              "      <th>5</th>\n",
              "      <td>ayunabilaaaaa</td>\n",
              "      <td>beyond proud</td>\n",
              "      <td>2024/04/29 16:31:02</td>\n",
              "      <td>[[beyond, proud]]</td>\n",
              "    </tr>\n",
              "    <tr>\n",
              "      <th>...</th>\n",
              "      <td>...</td>\n",
              "      <td>...</td>\n",
              "      <td>...</td>\n",
              "      <td>...</td>\n",
              "    </tr>\n",
              "    <tr>\n",
              "      <th>782</th>\n",
              "      <td>faidlft_</td>\n",
              "      <td>menyala timnaskuuu</td>\n",
              "      <td>2024/04/26 14:04:40</td>\n",
              "      <td>[[menyala, timnaskuuu]]</td>\n",
              "    </tr>\n",
              "    <tr>\n",
              "      <th>784</th>\n",
              "      <td>clarasti.novii</td>\n",
              "      <td>sandywalsh</td>\n",
              "      <td>2024/04/26 14:04:50</td>\n",
              "      <td>[[sandywalsh]]</td>\n",
              "    </tr>\n",
              "    <tr>\n",
              "      <th>785</th>\n",
              "      <td>tubagus_aj</td>\n",
              "      <td>gilaaaaaaaaa</td>\n",
              "      <td>2024/04/26 14:05:14</td>\n",
              "      <td>[[gilaaaaaaaaa]]</td>\n",
              "    </tr>\n",
              "    <tr>\n",
              "      <th>786</th>\n",
              "      <td>effendyahmd_</td>\n",
              "      <td>bbitchess6 kenapa ga manual aja mbak ambil air...</td>\n",
              "      <td>2024/04/26 14:05:15</td>\n",
              "      <td>[[bbitchess6, kenapa, ga, manual, aja, mbak, a...</td>\n",
              "    </tr>\n",
              "    <tr>\n",
              "      <th>788</th>\n",
              "      <td>cantikakenzie_</td>\n",
              "      <td>proud youuuu garudakuuuu</td>\n",
              "      <td>2024/04/26 14:05:40</td>\n",
              "      <td>[[proud, youuuu, garudakuuuu]]</td>\n",
              "    </tr>\n",
              "  </tbody>\n",
              "</table>\n",
              "<p>618 rows × 4 columns</p>\n",
              "</div>"
            ],
            "text/plain": [
              "                   userName  \\\n",
              "0               ngui_sintan   \n",
              "1    agustiyaindahsariputri   \n",
              "3           dslsyabildumps_   \n",
              "4              rohadiiiiiii   \n",
              "5             ayunabilaaaaa   \n",
              "..                      ...   \n",
              "782                faidlft_   \n",
              "784          clarasti.novii   \n",
              "785              tubagus_aj   \n",
              "786            effendyahmd_   \n",
              "788          cantikakenzie_   \n",
              "\n",
              "                                                  text                 date  \\\n",
              "0                 timnas kali ini semua cogan semua ya  2024/04/29 10:16:56   \n",
              "1                      timnas indonesia u19 vs pra pon  2024/04/29 12:28:06   \n",
              "3                                              uhuyyyy  2024/04/29 14:36:48   \n",
              "4                                  final waalykumsalam  2024/04/29 14:57:33   \n",
              "5                                         beyond proud  2024/04/29 16:31:02   \n",
              "..                                                 ...                  ...   \n",
              "782                                 menyala timnaskuuu  2024/04/26 14:04:40   \n",
              "784                                         sandywalsh  2024/04/26 14:04:50   \n",
              "785                                       gilaaaaaaaaa  2024/04/26 14:05:14   \n",
              "786  bbitchess6 kenapa ga manual aja mbak ambil air...  2024/04/26 14:05:15   \n",
              "788                           proud youuuu garudakuuuu  2024/04/26 14:05:40   \n",
              "\n",
              "                              Complaint_tokenized_text  \n",
              "0       [[timnas, kali, ini, semua, cogan, semua, ya]]  \n",
              "1             [[timnas, indonesia, u19, vs, pra, pon]]  \n",
              "3                                          [[uhuyyyy]]  \n",
              "4                             [[final, waalykumsalam]]  \n",
              "5                                    [[beyond, proud]]  \n",
              "..                                                 ...  \n",
              "782                            [[menyala, timnaskuuu]]  \n",
              "784                                     [[sandywalsh]]  \n",
              "785                                   [[gilaaaaaaaaa]]  \n",
              "786  [[bbitchess6, kenapa, ga, manual, aja, mbak, a...  \n",
              "788                     [[proud, youuuu, garudakuuuu]]  \n",
              "\n",
              "[618 rows x 4 columns]"
            ]
          },
          "execution_count": 148,
          "metadata": {},
          "output_type": "execute_result"
        }
      ],
      "source": [
        "df.head(1000)"
      ]
    },
    {
      "cell_type": "code",
      "execution_count": 147,
      "metadata": {},
      "outputs": [],
      "source": [
        "df.to_csv('result/01_date_preprocessing_result.csv',encoding='utf8',index=False)"
      ]
    }
  ],
  "metadata": {
    "colab": {
      "provenance": []
    },
    "kernelspec": {
      "display_name": "Python 3",
      "name": "python3"
    },
    "language_info": {
      "codemirror_mode": {
        "name": "ipython",
        "version": 3
      },
      "file_extension": ".py",
      "mimetype": "text/x-python",
      "name": "python",
      "nbconvert_exporter": "python",
      "pygments_lexer": "ipython3",
      "version": "3.11.5"
    }
  },
  "nbformat": 4,
  "nbformat_minor": 0
}
